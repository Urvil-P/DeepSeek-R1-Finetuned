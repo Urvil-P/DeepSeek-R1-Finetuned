{
 "cells": [
  {
   "cell_type": "code",
   "execution_count": 1,
   "metadata": {
    "collapsed": true,
    "execution": {
     "iopub.execute_input": "2025-02-15T15:44:14.008141Z",
     "iopub.status.busy": "2025-02-15T15:44:14.007782Z",
     "iopub.status.idle": "2025-02-15T15:44:26.193419Z",
     "shell.execute_reply": "2025-02-15T15:44:26.192214Z",
     "shell.execute_reply.started": "2025-02-15T15:44:14.008109Z"
    },
    "jupyter": {
     "outputs_hidden": true
    },
    "trusted": true
   },
   "outputs": [
    {
     "name": "stdout",
     "output_type": "stream",
     "text": [
      "Requirement already satisfied: datasets in /usr/local/lib/python3.10/dist-packages (3.2.0)\n",
      "Requirement already satisfied: sympy in /usr/local/lib/python3.10/dist-packages (1.13.1)\n",
      "Requirement already satisfied: wandb in /usr/local/lib/python3.10/dist-packages (0.19.1)\n",
      "Requirement already satisfied: filelock in /usr/local/lib/python3.10/dist-packages (from datasets) (3.17.0)\n",
      "Requirement already satisfied: numpy>=1.17 in /usr/local/lib/python3.10/dist-packages (from datasets) (1.26.4)\n",
      "Requirement already satisfied: pyarrow>=15.0.0 in /usr/local/lib/python3.10/dist-packages (from datasets) (19.0.0)\n",
      "Requirement already satisfied: dill<0.3.9,>=0.3.0 in /usr/local/lib/python3.10/dist-packages (from datasets) (0.3.8)\n",
      "Requirement already satisfied: pandas in /usr/local/lib/python3.10/dist-packages (from datasets) (2.2.3)\n",
      "Requirement already satisfied: requests>=2.32.2 in /usr/local/lib/python3.10/dist-packages (from datasets) (2.32.3)\n",
      "Requirement already satisfied: tqdm>=4.66.3 in /usr/local/lib/python3.10/dist-packages (from datasets) (4.67.1)\n",
      "Requirement already satisfied: xxhash in /usr/local/lib/python3.10/dist-packages (from datasets) (3.5.0)\n",
      "Requirement already satisfied: multiprocess<0.70.17 in /usr/local/lib/python3.10/dist-packages (from datasets) (0.70.16)\n",
      "Requirement already satisfied: fsspec<=2024.9.0,>=2023.1.0 in /usr/local/lib/python3.10/dist-packages (from fsspec[http]<=2024.9.0,>=2023.1.0->datasets) (2024.9.0)\n",
      "Requirement already satisfied: aiohttp in /usr/local/lib/python3.10/dist-packages (from datasets) (3.11.11)\n",
      "Requirement already satisfied: huggingface-hub>=0.23.0 in /usr/local/lib/python3.10/dist-packages (from datasets) (0.28.1)\n",
      "Requirement already satisfied: packaging in /usr/local/lib/python3.10/dist-packages (from datasets) (24.2)\n",
      "Requirement already satisfied: pyyaml>=5.1 in /usr/local/lib/python3.10/dist-packages (from datasets) (6.0.2)\n",
      "Requirement already satisfied: mpmath<1.4,>=1.1.0 in /usr/local/lib/python3.10/dist-packages (from sympy) (1.3.0)\n",
      "Requirement already satisfied: click!=8.0.0,>=7.1 in /usr/local/lib/python3.10/dist-packages (from wandb) (8.1.7)\n",
      "Requirement already satisfied: docker-pycreds>=0.4.0 in /usr/local/lib/python3.10/dist-packages (from wandb) (0.4.0)\n",
      "Requirement already satisfied: gitpython!=3.1.29,>=1.0.0 in /usr/local/lib/python3.10/dist-packages (from wandb) (3.1.43)\n",
      "Requirement already satisfied: platformdirs in /usr/local/lib/python3.10/dist-packages (from wandb) (4.3.6)\n",
      "Requirement already satisfied: protobuf!=4.21.0,!=5.28.0,<6,>=3.19.0 in /usr/local/lib/python3.10/dist-packages (from wandb) (3.20.3)\n",
      "Requirement already satisfied: psutil>=5.0.0 in /usr/local/lib/python3.10/dist-packages (from wandb) (5.9.5)\n",
      "Requirement already satisfied: pydantic<3,>=2.6 in /usr/local/lib/python3.10/dist-packages (from wandb) (2.11.0a1)\n",
      "Requirement already satisfied: sentry-sdk>=2.0.0 in /usr/local/lib/python3.10/dist-packages (from wandb) (2.19.2)\n",
      "Requirement already satisfied: setproctitle in /usr/local/lib/python3.10/dist-packages (from wandb) (1.3.4)\n",
      "Requirement already satisfied: setuptools in /usr/local/lib/python3.10/dist-packages (from wandb) (75.1.0)\n",
      "Requirement already satisfied: typing-extensions<5,>=4.4 in /usr/local/lib/python3.10/dist-packages (from wandb) (4.12.2)\n",
      "Requirement already satisfied: six>=1.4.0 in /usr/local/lib/python3.10/dist-packages (from docker-pycreds>=0.4.0->wandb) (1.17.0)\n",
      "Requirement already satisfied: aiohappyeyeballs>=2.3.0 in /usr/local/lib/python3.10/dist-packages (from aiohttp->datasets) (2.4.4)\n",
      "Requirement already satisfied: aiosignal>=1.1.2 in /usr/local/lib/python3.10/dist-packages (from aiohttp->datasets) (1.3.2)\n",
      "Requirement already satisfied: async-timeout<6.0,>=4.0 in /usr/local/lib/python3.10/dist-packages (from aiohttp->datasets) (5.0.1)\n",
      "Requirement already satisfied: attrs>=17.3.0 in /usr/local/lib/python3.10/dist-packages (from aiohttp->datasets) (25.1.0)\n",
      "Requirement already satisfied: frozenlist>=1.1.1 in /usr/local/lib/python3.10/dist-packages (from aiohttp->datasets) (1.5.0)\n",
      "Requirement already satisfied: multidict<7.0,>=4.5 in /usr/local/lib/python3.10/dist-packages (from aiohttp->datasets) (6.1.0)\n",
      "Requirement already satisfied: propcache>=0.2.0 in /usr/local/lib/python3.10/dist-packages (from aiohttp->datasets) (0.2.1)\n",
      "Requirement already satisfied: yarl<2.0,>=1.17.0 in /usr/local/lib/python3.10/dist-packages (from aiohttp->datasets) (1.18.3)\n",
      "Requirement already satisfied: gitdb<5,>=4.0.1 in /usr/local/lib/python3.10/dist-packages (from gitpython!=3.1.29,>=1.0.0->wandb) (4.0.11)\n",
      "Requirement already satisfied: mkl_fft in /usr/local/lib/python3.10/dist-packages (from numpy>=1.17->datasets) (1.3.8)\n",
      "Requirement already satisfied: mkl_random in /usr/local/lib/python3.10/dist-packages (from numpy>=1.17->datasets) (1.2.4)\n",
      "Requirement already satisfied: mkl_umath in /usr/local/lib/python3.10/dist-packages (from numpy>=1.17->datasets) (0.1.1)\n",
      "Requirement already satisfied: mkl in /usr/local/lib/python3.10/dist-packages (from numpy>=1.17->datasets) (2025.0.1)\n",
      "Requirement already satisfied: tbb4py in /usr/local/lib/python3.10/dist-packages (from numpy>=1.17->datasets) (2022.0.0)\n",
      "Requirement already satisfied: mkl-service in /usr/local/lib/python3.10/dist-packages (from numpy>=1.17->datasets) (2.4.1)\n",
      "Requirement already satisfied: annotated-types>=0.6.0 in /usr/local/lib/python3.10/dist-packages (from pydantic<3,>=2.6->wandb) (0.7.0)\n",
      "Requirement already satisfied: pydantic-core==2.28.0 in /usr/local/lib/python3.10/dist-packages (from pydantic<3,>=2.6->wandb) (2.28.0)\n",
      "Requirement already satisfied: charset-normalizer<4,>=2 in /usr/local/lib/python3.10/dist-packages (from requests>=2.32.2->datasets) (3.4.1)\n",
      "Requirement already satisfied: idna<4,>=2.5 in /usr/local/lib/python3.10/dist-packages (from requests>=2.32.2->datasets) (3.10)\n",
      "Requirement already satisfied: urllib3<3,>=1.21.1 in /usr/local/lib/python3.10/dist-packages (from requests>=2.32.2->datasets) (2.3.0)\n",
      "Requirement already satisfied: certifi>=2017.4.17 in /usr/local/lib/python3.10/dist-packages (from requests>=2.32.2->datasets) (2025.1.31)\n",
      "Requirement already satisfied: python-dateutil>=2.8.2 in /usr/local/lib/python3.10/dist-packages (from pandas->datasets) (2.9.0.post0)\n",
      "Requirement already satisfied: pytz>=2020.1 in /usr/local/lib/python3.10/dist-packages (from pandas->datasets) (2025.1)\n",
      "Requirement already satisfied: tzdata>=2022.7 in /usr/local/lib/python3.10/dist-packages (from pandas->datasets) (2025.1)\n",
      "Requirement already satisfied: smmap<6,>=3.0.1 in /usr/local/lib/python3.10/dist-packages (from gitdb<5,>=4.0.1->gitpython!=3.1.29,>=1.0.0->wandb) (5.0.1)\n",
      "Requirement already satisfied: intel-openmp>=2024 in /usr/local/lib/python3.10/dist-packages (from mkl->numpy>=1.17->datasets) (2024.2.0)\n",
      "Requirement already satisfied: tbb==2022.* in /usr/local/lib/python3.10/dist-packages (from mkl->numpy>=1.17->datasets) (2022.0.0)\n",
      "Requirement already satisfied: tcmlib==1.* in /usr/local/lib/python3.10/dist-packages (from tbb==2022.*->mkl->numpy>=1.17->datasets) (1.2.0)\n",
      "Requirement already satisfied: intel-cmplr-lib-rt in /usr/local/lib/python3.10/dist-packages (from mkl_umath->numpy>=1.17->datasets) (2024.2.0)\n",
      "Requirement already satisfied: intel-cmplr-lib-ur==2024.2.0 in /usr/local/lib/python3.10/dist-packages (from intel-openmp>=2024->mkl->numpy>=1.17->datasets) (2024.2.0)\n",
      "Collecting bitsandbytes\n",
      "  Downloading bitsandbytes-0.45.2-py3-none-manylinux_2_24_x86_64.whl.metadata (5.8 kB)\n",
      "Requirement already satisfied: torch<3,>=2.0 in /usr/local/lib/python3.10/dist-packages (from bitsandbytes) (2.5.1+cu121)\n",
      "Requirement already satisfied: numpy>=1.17 in /usr/local/lib/python3.10/dist-packages (from bitsandbytes) (1.26.4)\n",
      "Requirement already satisfied: mkl_fft in /usr/local/lib/python3.10/dist-packages (from numpy>=1.17->bitsandbytes) (1.3.8)\n",
      "Requirement already satisfied: mkl_random in /usr/local/lib/python3.10/dist-packages (from numpy>=1.17->bitsandbytes) (1.2.4)\n",
      "Requirement already satisfied: mkl_umath in /usr/local/lib/python3.10/dist-packages (from numpy>=1.17->bitsandbytes) (0.1.1)\n",
      "Requirement already satisfied: mkl in /usr/local/lib/python3.10/dist-packages (from numpy>=1.17->bitsandbytes) (2025.0.1)\n",
      "Requirement already satisfied: tbb4py in /usr/local/lib/python3.10/dist-packages (from numpy>=1.17->bitsandbytes) (2022.0.0)\n",
      "Requirement already satisfied: mkl-service in /usr/local/lib/python3.10/dist-packages (from numpy>=1.17->bitsandbytes) (2.4.1)\n",
      "Requirement already satisfied: filelock in /usr/local/lib/python3.10/dist-packages (from torch<3,>=2.0->bitsandbytes) (3.17.0)\n",
      "Requirement already satisfied: typing-extensions>=4.8.0 in /usr/local/lib/python3.10/dist-packages (from torch<3,>=2.0->bitsandbytes) (4.12.2)\n",
      "Requirement already satisfied: networkx in /usr/local/lib/python3.10/dist-packages (from torch<3,>=2.0->bitsandbytes) (3.4.2)\n",
      "Requirement already satisfied: jinja2 in /usr/local/lib/python3.10/dist-packages (from torch<3,>=2.0->bitsandbytes) (3.1.4)\n",
      "Requirement already satisfied: fsspec in /usr/local/lib/python3.10/dist-packages (from torch<3,>=2.0->bitsandbytes) (2024.9.0)\n",
      "Requirement already satisfied: sympy==1.13.1 in /usr/local/lib/python3.10/dist-packages (from torch<3,>=2.0->bitsandbytes) (1.13.1)\n",
      "Requirement already satisfied: mpmath<1.4,>=1.1.0 in /usr/local/lib/python3.10/dist-packages (from sympy==1.13.1->torch<3,>=2.0->bitsandbytes) (1.3.0)\n",
      "Requirement already satisfied: MarkupSafe>=2.0 in /usr/local/lib/python3.10/dist-packages (from jinja2->torch<3,>=2.0->bitsandbytes) (3.0.2)\n",
      "Requirement already satisfied: intel-openmp>=2024 in /usr/local/lib/python3.10/dist-packages (from mkl->numpy>=1.17->bitsandbytes) (2024.2.0)\n",
      "Requirement already satisfied: tbb==2022.* in /usr/local/lib/python3.10/dist-packages (from mkl->numpy>=1.17->bitsandbytes) (2022.0.0)\n",
      "Requirement already satisfied: tcmlib==1.* in /usr/local/lib/python3.10/dist-packages (from tbb==2022.*->mkl->numpy>=1.17->bitsandbytes) (1.2.0)\n",
      "Requirement already satisfied: intel-cmplr-lib-rt in /usr/local/lib/python3.10/dist-packages (from mkl_umath->numpy>=1.17->bitsandbytes) (2024.2.0)\n",
      "Requirement already satisfied: intel-cmplr-lib-ur==2024.2.0 in /usr/local/lib/python3.10/dist-packages (from intel-openmp>=2024->mkl->numpy>=1.17->bitsandbytes) (2024.2.0)\n",
      "Downloading bitsandbytes-0.45.2-py3-none-manylinux_2_24_x86_64.whl (69.7 MB)\n",
      "\u001b[2K   \u001b[90m━━━━━━━━━━━━━━━━━━━━━━━━━━━━━━━━━━━━━━━━\u001b[0m \u001b[32m69.7/69.7 MB\u001b[0m \u001b[31m295.8 MB/s\u001b[0m eta \u001b[36m0:00:00\u001b[0m00:01\u001b[0m00:01\u001b[0m\n",
      "\u001b[?25hInstalling collected packages: bitsandbytes\n",
      "Successfully installed bitsandbytes-0.45.2\n"
     ]
    }
   ],
   "source": [
    "!pip install datasets sympy wandb\n",
    "!pip install --no-cache-dir bitsandbytes"
   ]
  },
  {
   "cell_type": "code",
   "execution_count": 3,
   "metadata": {
    "execution": {
     "iopub.execute_input": "2025-02-15T15:51:57.188609Z",
     "iopub.status.busy": "2025-02-15T15:51:57.188281Z",
     "iopub.status.idle": "2025-02-15T15:53:52.082737Z",
     "shell.execute_reply": "2025-02-15T15:53:52.081922Z",
     "shell.execute_reply.started": "2025-02-15T15:51:57.188585Z"
    },
    "trusted": true
   },
   "outputs": [
    {
     "data": {
      "application/vnd.jupyter.widget-view+json": {
       "model_id": "8aed567de3594d3ab054120cc0ad0390",
       "version_major": 2,
       "version_minor": 0
      },
      "text/plain": [
       "tokenizer_config.json:   0%|          | 0.00/3.07k [00:00<?, ?B/s]"
      ]
     },
     "metadata": {},
     "output_type": "display_data"
    },
    {
     "data": {
      "application/vnd.jupyter.widget-view+json": {
       "model_id": "129ce508d4e84ea4a1196d7ec77b1627",
       "version_major": 2,
       "version_minor": 0
      },
      "text/plain": [
       "tokenizer.json:   0%|          | 0.00/7.03M [00:00<?, ?B/s]"
      ]
     },
     "metadata": {},
     "output_type": "display_data"
    },
    {
     "data": {
      "application/vnd.jupyter.widget-view+json": {
       "model_id": "482a56655cd14c97ab72f5885c0717d1",
       "version_major": 2,
       "version_minor": 0
      },
      "text/plain": [
       "config.json:   0%|          | 0.00/679 [00:00<?, ?B/s]"
      ]
     },
     "metadata": {},
     "output_type": "display_data"
    },
    {
     "data": {
      "application/vnd.jupyter.widget-view+json": {
       "model_id": "b5b3061b952c46779d956b0a41617218",
       "version_major": 2,
       "version_minor": 0
      },
      "text/plain": [
       "model.safetensors:   0%|          | 0.00/3.55G [00:00<?, ?B/s]"
      ]
     },
     "metadata": {},
     "output_type": "display_data"
    },
    {
     "data": {
      "application/vnd.jupyter.widget-view+json": {
       "model_id": "bcb71f6b196640ca838f6a65b78b2ca7",
       "version_major": 2,
       "version_minor": 0
      },
      "text/plain": [
       "generation_config.json:   0%|          | 0.00/181 [00:00<?, ?B/s]"
      ]
     },
     "metadata": {},
     "output_type": "display_data"
    }
   ],
   "source": [
    "import torch\n",
    "from transformers import AutoTokenizer, AutoModelForCausalLM\n",
    "\n",
    "model_name = \"deepseek-ai/DeepSeek-R1-Distill-Qwen-1.5B\"\n",
    "tokenizer = AutoTokenizer.from_pretrained(model_name)\n",
    "model = AutoModelForCausalLM.from_pretrained(model_name).to(\"cuda\")"
   ]
  },
  {
   "cell_type": "code",
   "execution_count": 4,
   "metadata": {
    "execution": {
     "iopub.execute_input": "2025-02-15T15:55:52.117365Z",
     "iopub.status.busy": "2025-02-15T15:55:52.116546Z",
     "iopub.status.idle": "2025-02-15T15:55:52.125416Z",
     "shell.execute_reply": "2025-02-15T15:55:52.124437Z",
     "shell.execute_reply.started": "2025-02-15T15:55:52.117328Z"
    },
    "trusted": true
   },
   "outputs": [
    {
     "data": {
      "text/plain": [
       "Qwen2ForCausalLM(\n",
       "  (model): Qwen2Model(\n",
       "    (embed_tokens): Embedding(151936, 1536)\n",
       "    (layers): ModuleList(\n",
       "      (0-27): 28 x Qwen2DecoderLayer(\n",
       "        (self_attn): Qwen2SdpaAttention(\n",
       "          (q_proj): Linear(in_features=1536, out_features=1536, bias=True)\n",
       "          (k_proj): Linear(in_features=1536, out_features=256, bias=True)\n",
       "          (v_proj): Linear(in_features=1536, out_features=256, bias=True)\n",
       "          (o_proj): Linear(in_features=1536, out_features=1536, bias=False)\n",
       "          (rotary_emb): Qwen2RotaryEmbedding()\n",
       "        )\n",
       "        (mlp): Qwen2MLP(\n",
       "          (gate_proj): Linear(in_features=1536, out_features=8960, bias=False)\n",
       "          (up_proj): Linear(in_features=1536, out_features=8960, bias=False)\n",
       "          (down_proj): Linear(in_features=8960, out_features=1536, bias=False)\n",
       "          (act_fn): SiLU()\n",
       "        )\n",
       "        (input_layernorm): Qwen2RMSNorm((1536,), eps=1e-06)\n",
       "        (post_attention_layernorm): Qwen2RMSNorm((1536,), eps=1e-06)\n",
       "      )\n",
       "    )\n",
       "    (norm): Qwen2RMSNorm((1536,), eps=1e-06)\n",
       "    (rotary_emb): Qwen2RotaryEmbedding()\n",
       "  )\n",
       "  (lm_head): Linear(in_features=1536, out_features=151936, bias=False)\n",
       ")"
      ]
     },
     "execution_count": 4,
     "metadata": {},
     "output_type": "execute_result"
    }
   ],
   "source": [
    "model"
   ]
  },
  {
   "cell_type": "code",
   "execution_count": 14,
   "metadata": {
    "execution": {
     "iopub.execute_input": "2025-02-15T16:02:54.732681Z",
     "iopub.status.busy": "2025-02-15T16:02:54.732374Z",
     "iopub.status.idle": "2025-02-15T16:02:54.737881Z",
     "shell.execute_reply": "2025-02-15T16:02:54.736919Z",
     "shell.execute_reply.started": "2025-02-15T16:02:54.732658Z"
    },
    "trusted": true
   },
   "outputs": [],
   "source": [
    "import json\n",
    "with open(\"/kaggle/input/bhagwad-geeta-data/geeta.json\",'r') as f:\n",
    "    data = json.load(f)"
   ]
  },
  {
   "cell_type": "code",
   "execution_count": 17,
   "metadata": {
    "execution": {
     "iopub.execute_input": "2025-02-15T16:03:18.483403Z",
     "iopub.status.busy": "2025-02-15T16:03:18.483044Z",
     "iopub.status.idle": "2025-02-15T16:03:18.488456Z",
     "shell.execute_reply": "2025-02-15T16:03:18.487617Z",
     "shell.execute_reply.started": "2025-02-15T16:03:18.483380Z"
    },
    "trusted": true
   },
   "outputs": [
    {
     "name": "stdout",
     "output_type": "stream",
     "text": [
      "177\n",
      "<class 'list'>\n",
      "<class 'dict'>\n"
     ]
    }
   ],
   "source": [
    "print(len(data))\n",
    "print(type(data))\n",
    "print(type(data[0]))"
   ]
  },
  {
   "cell_type": "code",
   "execution_count": 32,
   "metadata": {
    "execution": {
     "iopub.execute_input": "2025-02-15T16:27:15.012923Z",
     "iopub.status.busy": "2025-02-15T16:27:15.012486Z",
     "iopub.status.idle": "2025-02-15T16:27:21.316474Z",
     "shell.execute_reply": "2025-02-15T16:27:21.315664Z",
     "shell.execute_reply.started": "2025-02-15T16:27:15.012872Z"
    },
    "trusted": true
   },
   "outputs": [
    {
     "data": {
      "text/html": [
       "Tracking run with wandb version 0.19.1"
      ],
      "text/plain": [
       "<IPython.core.display.HTML object>"
      ]
     },
     "metadata": {},
     "output_type": "display_data"
    },
    {
     "data": {
      "text/html": [
       "W&B syncing is set to <code>`offline`<code> in this directory.  <br>Run <code>`wandb online`<code> or set <code>WANDB_MODE=online<code> to enable cloud syncing."
      ],
      "text/plain": [
       "<IPython.core.display.HTML object>"
      ]
     },
     "metadata": {},
     "output_type": "display_data"
    },
    {
     "name": "stdout",
     "output_type": "stream",
     "text": [
      "W&B initialized successfully!\n"
     ]
    }
   ],
   "source": [
    "import wandb\n",
    "\n",
    "wandb.init(\n",
    "    project=\"DeepSeek Fine-Tune on Geeta\",\n",
    "    mode=\"offline\",  # Use \"offline\" mode to avoid network issues\n",
    "    config={\n",
    "        \"learning_rate\": 5e-5,\n",
    "        \"architecture\": \"DeepSeek-R1-Distill-Qwen-1.5B\",\n",
    "        \"dataset\": \"/kaggle/input/bhagwad-geeta-data/geeta.json\",\n",
    "        \"epochs\": 3\n",
    "    }\n",
    ")\n",
    "\n",
    "print(\"W&B initialized successfully!\")"
   ]
  },
  {
   "cell_type": "code",
   "execution_count": 29,
   "metadata": {
    "execution": {
     "iopub.execute_input": "2025-02-15T16:14:26.843331Z",
     "iopub.status.busy": "2025-02-15T16:14:26.842974Z",
     "iopub.status.idle": "2025-02-15T16:14:26.973771Z",
     "shell.execute_reply": "2025-02-15T16:14:26.972846Z",
     "shell.execute_reply.started": "2025-02-15T16:14:26.843301Z"
    },
    "trusted": true
   },
   "outputs": [
    {
     "name": "stdout",
     "output_type": "stream",
     "text": [
      "177\n"
     ]
    },
    {
     "data": {
      "text/plain": [
       "(150, 27)"
      ]
     },
     "execution_count": 29,
     "metadata": {},
     "output_type": "execute_result"
    }
   ],
   "source": [
    "from datasets import load_dataset\n",
    "dataset = load_dataset(\"json\", data_files=\"/kaggle/input/bhagwad-geeta-data/geeta.json\",split='train')\n",
    "print(len(dataset))\n",
    "\n",
    "tts = dataset.train_test_split(test_size=0.15)\n",
    "train_data = tts['train']\n",
    "test_data = tts['test']\n",
    "\n",
    "len(train_data),len(test_data)"
   ]
  },
  {
   "cell_type": "code",
   "execution_count": 36,
   "metadata": {
    "execution": {
     "iopub.execute_input": "2025-02-15T16:30:09.561580Z",
     "iopub.status.busy": "2025-02-15T16:30:09.561246Z",
     "iopub.status.idle": "2025-02-15T16:30:09.924792Z",
     "shell.execute_reply": "2025-02-15T16:30:09.923825Z",
     "shell.execute_reply.started": "2025-02-15T16:30:09.561556Z"
    },
    "trusted": true
   },
   "outputs": [
    {
     "data": {
      "application/vnd.jupyter.widget-view+json": {
       "model_id": "3b68902369984d608f1a1300f824bb85",
       "version_major": 2,
       "version_minor": 0
      },
      "text/plain": [
       "Map:   0%|          | 0/150 [00:00<?, ? examples/s]"
      ]
     },
     "metadata": {},
     "output_type": "display_data"
    },
    {
     "data": {
      "application/vnd.jupyter.widget-view+json": {
       "model_id": "92a553e804344e0fa44dd2b7c1477407",
       "version_major": 2,
       "version_minor": 0
      },
      "text/plain": [
       "Map:   0%|          | 0/27 [00:00<?, ? examples/s]"
      ]
     },
     "metadata": {},
     "output_type": "display_data"
    }
   ],
   "source": [
    "def tokenize_function(examples):\n",
    "    combined_texts = [f\"{question}\\n{answer}\" for question, answer in zip(examples[\"question\"], examples[\"answer\"])]\n",
    "    tokenized = tokenizer(combined_texts, truncation=True, max_length=512,padding=\"max_length\")\n",
    "    tokenized[\"labels\"] = tokenized[\"input_ids\"].copy()\n",
    "    return tokenized\n",
    "\n",
    "train_data_tokenized = train_data.map(tokenize_function, batched=True)\n",
    "test_data_tokenized = test_data.map(tokenize_function, batched=True)"
   ]
  },
  {
   "cell_type": "code",
   "execution_count": 46,
   "metadata": {
    "execution": {
     "iopub.execute_input": "2025-02-15T16:56:39.674151Z",
     "iopub.status.busy": "2025-02-15T16:56:39.673742Z",
     "iopub.status.idle": "2025-02-15T16:56:44.654566Z",
     "shell.execute_reply": "2025-02-15T16:56:44.653916Z",
     "shell.execute_reply.started": "2025-02-15T16:56:39.674120Z"
    },
    "trusted": true
   },
   "outputs": [],
   "source": [
    "from transformers import BitsAndBytesConfig\n",
    "\n",
    "quantization_config = BitsAndBytesConfig(load_in_8bit=True)\n",
    "model = AutoModelForCausalLM.from_pretrained(model_name, quantization_config=quantization_config, device_map=\"auto\")"
   ]
  },
  {
   "cell_type": "markdown",
   "metadata": {},
   "source": [
    "**# Implementing LORA Config**"
   ]
  },
  {
   "cell_type": "code",
   "execution_count": 47,
   "metadata": {
    "execution": {
     "iopub.execute_input": "2025-02-15T16:56:48.962107Z",
     "iopub.status.busy": "2025-02-15T16:56:48.961685Z",
     "iopub.status.idle": "2025-02-15T16:56:49.060349Z",
     "shell.execute_reply": "2025-02-15T16:56:49.059541Z",
     "shell.execute_reply.started": "2025-02-15T16:56:48.962074Z"
    },
    "trusted": true
   },
   "outputs": [
    {
     "name": "stdout",
     "output_type": "stream",
     "text": [
      "trainable params: 1,089,536 || all params: 1,778,177,536 || trainable%: 0.0613\n"
     ]
    }
   ],
   "source": [
    "from peft import get_peft_model, LoraConfig, TaskType\n",
    "\n",
    "lora_config = LoraConfig(\n",
    "    r=8,\n",
    "    lora_alpha = 8, #lower = fast task\n",
    "    # target_modules = [\"q_proj\" , \"v_proj\"],\n",
    "    # lora_dropout = 0.05,\n",
    "    # bias = \"none\",\n",
    "    task_type = TaskType.CAUSAL_LM,\n",
    ")\n",
    "\n",
    "model = get_peft_model(model,lora_config)\n",
    "model.print_trainable_parameters()"
   ]
  },
  {
   "cell_type": "code",
   "execution_count": 48,
   "metadata": {
    "execution": {
     "iopub.execute_input": "2025-02-15T16:56:51.630915Z",
     "iopub.status.busy": "2025-02-15T16:56:51.630512Z",
     "iopub.status.idle": "2025-02-15T16:56:51.675281Z",
     "shell.execute_reply": "2025-02-15T16:56:51.674570Z",
     "shell.execute_reply.started": "2025-02-15T16:56:51.630883Z"
    },
    "trusted": true
   },
   "outputs": [],
   "source": [
    "from transformers import TrainingArguments, Trainer \n",
    "\n",
    "training_args = TrainingArguments(\n",
    "    output_dir = \"./deepseek_finetuned_on_bhagwad_geeta\",\n",
    "    num_train_epochs = 50,\n",
    "    per_device_train_batch_size = 2,\n",
    "    gradient_accumulation_steps=16,\n",
    "    fp16=True,\n",
    "    logging_steps=10,\n",
    "    learning_rate = 3e-5,\n",
    "    logging_dir = \"./logs\",\n",
    "    report_to = \"wandb\",\n",
    "    run_name = \"DeepSeek_finetuning_on_Bhagwad_Geeta\"\n",
    ")\n",
    "\n",
    "trainer = Trainer(\n",
    "    model=model,\n",
    "    args=training_args,\n",
    "    train_dataset = train_data_tokenized,\n",
    "    eval_dataset = test_data_tokenized\n",
    ")"
   ]
  },
  {
   "cell_type": "code",
   "execution_count": 49,
   "metadata": {
    "execution": {
     "iopub.execute_input": "2025-02-15T16:56:55.400182Z",
     "iopub.status.busy": "2025-02-15T16:56:55.399796Z",
     "iopub.status.idle": "2025-02-15T17:37:02.458881Z",
     "shell.execute_reply": "2025-02-15T17:37:02.457899Z",
     "shell.execute_reply.started": "2025-02-15T16:56:55.400142Z"
    },
    "trusted": true
   },
   "outputs": [
    {
     "data": {
      "text/html": [
       "\n",
       "    <div>\n",
       "      \n",
       "      <progress value='200' max='200' style='width:300px; height:20px; vertical-align: middle;'></progress>\n",
       "      [200/200 39:55, Epoch 49/50]\n",
       "    </div>\n",
       "    <table border=\"1\" class=\"dataframe\">\n",
       "  <thead>\n",
       " <tr style=\"text-align: left;\">\n",
       "      <th>Step</th>\n",
       "      <th>Training Loss</th>\n",
       "    </tr>\n",
       "  </thead>\n",
       "  <tbody>\n",
       "    <tr>\n",
       "      <td>10</td>\n",
       "      <td>123.978000</td>\n",
       "    </tr>\n",
       "    <tr>\n",
       "      <td>20</td>\n",
       "      <td>110.388800</td>\n",
       "    </tr>\n",
       "    <tr>\n",
       "      <td>30</td>\n",
       "      <td>90.875900</td>\n",
       "    </tr>\n",
       "    <tr>\n",
       "      <td>40</td>\n",
       "      <td>63.938300</td>\n",
       "    </tr>\n",
       "    <tr>\n",
       "      <td>50</td>\n",
       "      <td>43.245600</td>\n",
       "    </tr>\n",
       "    <tr>\n",
       "      <td>60</td>\n",
       "      <td>25.716000</td>\n",
       "    </tr>\n",
       "    <tr>\n",
       "      <td>70</td>\n",
       "      <td>17.202400</td>\n",
       "    </tr>\n",
       "    <tr>\n",
       "      <td>80</td>\n",
       "      <td>10.458000</td>\n",
       "    </tr>\n",
       "    <tr>\n",
       "      <td>90</td>\n",
       "      <td>7.422300</td>\n",
       "    </tr>\n",
       "    <tr>\n",
       "      <td>100</td>\n",
       "      <td>5.777700</td>\n",
       "    </tr>\n",
       "    <tr>\n",
       "      <td>110</td>\n",
       "      <td>5.376500</td>\n",
       "    </tr>\n",
       "    <tr>\n",
       "      <td>120</td>\n",
       "      <td>5.005900</td>\n",
       "    </tr>\n",
       "    <tr>\n",
       "      <td>130</td>\n",
       "      <td>5.066600</td>\n",
       "    </tr>\n",
       "    <tr>\n",
       "      <td>140</td>\n",
       "      <td>4.862200</td>\n",
       "    </tr>\n",
       "    <tr>\n",
       "      <td>150</td>\n",
       "      <td>4.913700</td>\n",
       "    </tr>\n",
       "    <tr>\n",
       "      <td>160</td>\n",
       "      <td>4.819600</td>\n",
       "    </tr>\n",
       "    <tr>\n",
       "      <td>170</td>\n",
       "      <td>4.892900</td>\n",
       "    </tr>\n",
       "    <tr>\n",
       "      <td>180</td>\n",
       "      <td>4.721100</td>\n",
       "    </tr>\n",
       "    <tr>\n",
       "      <td>190</td>\n",
       "      <td>4.867800</td>\n",
       "    </tr>\n",
       "    <tr>\n",
       "      <td>200</td>\n",
       "      <td>4.668700</td>\n",
       "    </tr>\n",
       "  </tbody>\n",
       "</table><p>"
      ],
      "text/plain": [
       "<IPython.core.display.HTML object>"
      ]
     },
     "metadata": {},
     "output_type": "display_data"
    },
    {
     "data": {
      "text/plain": [
       "TrainOutput(global_step=200, training_loss=27.409903011322022, metrics={'train_runtime': 2406.6236, 'train_samples_per_second': 3.116, 'train_steps_per_second': 0.083, 'total_flos': 3.316251412660224e+16, 'train_loss': 27.409903011322022, 'epoch': 49.85333333333333})"
      ]
     },
     "execution_count": 49,
     "metadata": {},
     "output_type": "execute_result"
    }
   ],
   "source": [
    "trainer.train()"
   ]
  },
  {
   "cell_type": "code",
   "execution_count": 50,
   "metadata": {
    "execution": {
     "iopub.execute_input": "2025-02-15T17:37:02.460605Z",
     "iopub.status.busy": "2025-02-15T17:37:02.460263Z",
     "iopub.status.idle": "2025-02-15T17:37:02.712061Z",
     "shell.execute_reply": "2025-02-15T17:37:02.711290Z",
     "shell.execute_reply.started": "2025-02-15T17:37:02.460572Z"
    },
    "trusted": true
   },
   "outputs": [
    {
     "data": {
      "text/plain": [
       "('/kaggle/working/tokenizer_config.json',\n",
       " '/kaggle/working/special_tokens_map.json',\n",
       " '/kaggle/working/tokenizer.json')"
      ]
     },
     "execution_count": 50,
     "metadata": {},
     "output_type": "execute_result"
    }
   ],
   "source": [
    "save_path = \"/kaggle/working\"\n",
    "\n",
    "model.save_pretrained(save_path)\n",
    "tokenizer.save_pretrained(save_path)"
   ]
  },
  {
   "cell_type": "code",
   "execution_count": 55,
   "metadata": {
    "execution": {
     "iopub.execute_input": "2025-02-15T17:38:31.400594Z",
     "iopub.status.busy": "2025-02-15T17:38:31.400289Z",
     "iopub.status.idle": "2025-02-15T17:38:56.966682Z",
     "shell.execute_reply": "2025-02-15T17:38:56.966016Z",
     "shell.execute_reply.started": "2025-02-15T17:38:31.400570Z"
    },
    "trusted": true
   },
   "outputs": [
    {
     "data": {
      "text/plain": [
       "('/kaggle/working/Finetuned/tokenizer_config.json',\n",
       " '/kaggle/working/Finetuned/special_tokens_map.json',\n",
       " '/kaggle/working/Finetuned/tokenizer.json')"
      ]
     },
     "execution_count": 55,
     "metadata": {},
     "output_type": "execute_result"
    }
   ],
   "source": [
    "from peft import PeftModel\n",
    "\n",
    "base_model = AutoModelForCausalLM.from_pretrained(model_name)\n",
    "model = PeftModel.from_pretrained(base_model, save_path)\n",
    "model = model.merge_and_unload()\n",
    "\n",
    "final_save_path = \"/kaggle/working/Finetuned\"\n",
    "model.save_pretrained(final_save_path)\n",
    "tokenizer.save_pretrained(final_save_path)"
   ]
  },
  {
   "cell_type": "code",
   "execution_count": 58,
   "metadata": {
    "execution": {
     "iopub.execute_input": "2025-02-15T17:41:45.236338Z",
     "iopub.status.busy": "2025-02-15T17:41:45.235962Z",
     "iopub.status.idle": "2025-02-15T18:10:31.968068Z",
     "shell.execute_reply": "2025-02-15T18:10:31.966912Z",
     "shell.execute_reply.started": "2025-02-15T17:41:45.236310Z"
    },
    "trusted": true
   },
   "outputs": [
    {
     "name": "stdout",
     "output_type": "stream",
     "text": [
      "  adding: kaggle/working/ (stored 0%)\n",
      "  adding: kaggle/working/deepseek_finetuned_on_bhagwad_geeta/ (stored 0%)\n",
      "  adding: kaggle/working/deepseek_finetuned_on_bhagwad_geeta/checkpoint-200/ (stored 0%)\n",
      "  adding: kaggle/working/deepseek_finetuned_on_bhagwad_geeta/checkpoint-200/scheduler.pt (deflated 56%)\n",
      "  adding: kaggle/working/deepseek_finetuned_on_bhagwad_geeta/checkpoint-200/adapter_config.json (deflated 53%)\n",
      "  adding: kaggle/working/deepseek_finetuned_on_bhagwad_geeta/checkpoint-200/optimizer.pt (deflated 7%)\n",
      "  adding: kaggle/working/deepseek_finetuned_on_bhagwad_geeta/checkpoint-200/training_args.bin (deflated 52%)\n",
      "  adding: kaggle/working/deepseek_finetuned_on_bhagwad_geeta/checkpoint-200/README.md (deflated 66%)\n",
      "  adding: kaggle/working/deepseek_finetuned_on_bhagwad_geeta/checkpoint-200/rng_state.pth (deflated 25%)\n",
      "  adding: kaggle/working/deepseek_finetuned_on_bhagwad_geeta/checkpoint-200/adapter_model.safetensors (deflated 8%)\n",
      "  adding: kaggle/working/deepseek_finetuned_on_bhagwad_geeta/checkpoint-200/trainer_state.json (deflated 75%)\n",
      "  adding: kaggle/working/deepseek_finetuned_on_bhagwad_geeta/checkpoint-40/ (stored 0%)\n",
      "  adding: kaggle/working/deepseek_finetuned_on_bhagwad_geeta/checkpoint-40/scheduler.pt (deflated 56%)\n",
      "  adding: kaggle/working/deepseek_finetuned_on_bhagwad_geeta/checkpoint-40/adapter_config.json (deflated 55%)\n",
      "  adding: kaggle/working/deepseek_finetuned_on_bhagwad_geeta/checkpoint-40/optimizer.pt (deflated 6%)\n",
      "  adding: kaggle/working/deepseek_finetuned_on_bhagwad_geeta/checkpoint-40/training_args.bin (deflated 51%)\n",
      "  adding: kaggle/working/deepseek_finetuned_on_bhagwad_geeta/checkpoint-40/README.md (deflated 66%)\n",
      "  adding: kaggle/working/deepseek_finetuned_on_bhagwad_geeta/checkpoint-40/rng_state.pth (deflated 25%)\n",
      "  adding: kaggle/working/deepseek_finetuned_on_bhagwad_geeta/checkpoint-40/adapter_model.safetensors (deflated 9%)\n",
      "  adding: kaggle/working/deepseek_finetuned_on_bhagwad_geeta/checkpoint-40/trainer_state.json (deflated 63%)\n",
      "  adding: kaggle/working/adapter_config.json (deflated 53%)\n",
      "  adding: kaggle/working/README.md (deflated 66%)\n",
      "  adding: kaggle/working/.virtual_documents/ (stored 0%)\n",
      "  adding: kaggle/working/Finetuned/ (stored 0%)\n",
      "  adding: kaggle/working/Finetuned/model-00002-of-00002.safetensors (deflated 52%)\n",
      "  adding: kaggle/working/Finetuned/config.json (deflated 48%)\n",
      "  adding: kaggle/working/Finetuned/generation_config.json (deflated 31%)\n",
      "  adding: kaggle/working/Finetuned/model.safetensors.index.json (deflated 96%)\n",
      "  adding: kaggle/working/Finetuned/tokenizer.json (deflated 81%)\n",
      "  adding: kaggle/working/Finetuned/special_tokens_map.json (deflated 73%)\n",
      "  adding: kaggle/working/Finetuned/model-00001-of-00002.safetensors (deflated 51%)\n",
      "  adding: kaggle/working/Finetuned/tokenizer_config.json (deflated 85%)\n",
      "  adding: kaggle/working/adapter_model.safetensors (deflated 8%)\n",
      "  adding: kaggle/working/tokenizer.json (deflated 81%)\n",
      "  adding: kaggle/working/special_tokens_map.json (deflated 73%)\n",
      "  adding: kaggle/working/wandb/ (stored 0%)\n",
      "  adding: kaggle/working/wandb/latest-run/ (stored 0%)\n",
      "  adding: kaggle/working/wandb/latest-run/tmp/ (stored 0%)\n",
      "  adding: kaggle/working/wandb/latest-run/tmp/code/ (stored 0%)\n",
      "  adding: kaggle/working/wandb/latest-run/logs/ (stored 0%)\n",
      "  adding: kaggle/working/wandb/latest-run/logs/debug-internal.log (deflated 84%)\n",
      "  adding: kaggle/working/wandb/latest-run/logs/debug.log (deflated 86%)\n",
      "  adding: kaggle/working/wandb/latest-run/logs/debug-core.log (deflated 58%)\n",
      "  adding: kaggle/working/wandb/latest-run/run-8igqg4wf.wandb (deflated 79%)\n",
      "  adding: kaggle/working/wandb/latest-run/files/ (stored 0%)\n",
      "  adding: kaggle/working/wandb/latest-run/files/output.log (stored 0%)\n",
      "  adding: kaggle/working/wandb/latest-run/files/wandb-metadata.json (deflated 55%)\n",
      "  adding: kaggle/working/wandb/latest-run/files/requirements.txt (deflated 55%)\n",
      "  adding: kaggle/working/wandb/offline-run-20250215_162715-8igqg4wf/ (stored 0%)\n",
      "  adding: kaggle/working/wandb/offline-run-20250215_162715-8igqg4wf/tmp/ (stored 0%)\n",
      "  adding: kaggle/working/wandb/offline-run-20250215_162715-8igqg4wf/tmp/code/ (stored 0%)\n",
      "  adding: kaggle/working/wandb/offline-run-20250215_162715-8igqg4wf/logs/ (stored 0%)\n",
      "  adding: kaggle/working/wandb/offline-run-20250215_162715-8igqg4wf/logs/debug-internal.log (deflated 84%)\n",
      "  adding: kaggle/working/wandb/offline-run-20250215_162715-8igqg4wf/logs/debug.log (deflated 86%)\n",
      "  adding: kaggle/working/wandb/offline-run-20250215_162715-8igqg4wf/logs/debug-core.log (deflated 58%)\n",
      "  adding: kaggle/working/wandb/offline-run-20250215_162715-8igqg4wf/run-8igqg4wf.wandb (deflated 79%)\n",
      "  adding: kaggle/working/wandb/offline-run-20250215_162715-8igqg4wf/files/ (stored 0%)\n",
      "  adding: kaggle/working/wandb/offline-run-20250215_162715-8igqg4wf/files/output.log (stored 0%)\n",
      "  adding: kaggle/working/wandb/offline-run-20250215_162715-8igqg4wf/files/wandb-metadata.json (deflated 55%)\n",
      "  adding: kaggle/working/wandb/offline-run-20250215_162715-8igqg4wf/files/requirements.txt (deflated 55%)\n",
      "  adding: kaggle/working/wandb/debug-internal.log (deflated 84%)\n",
      "  adding: kaggle/working/wandb/debug.log (deflated 86%)\n",
      "  adding: kaggle/working/tokenizer_config.json (deflated 85%)\n"
     ]
    }
   ],
   "source": [
    "!zip -r /kaggle/working/deepseek_finetuned.zip /kaggle/working/"
   ]
  },
  {
   "cell_type": "code",
   "execution_count": null,
   "metadata": {
    "execution": {
     "iopub.execute_input": "2025-02-15T18:15:12.903383Z",
     "iopub.status.busy": "2025-02-15T18:15:12.903002Z",
     "iopub.status.idle": "2025-02-15T18:15:12.910326Z",
     "shell.execute_reply": "2025-02-15T18:15:12.909484Z",
     "shell.execute_reply.started": "2025-02-15T18:15:12.903357Z"
    },
    "trusted": true
   },
   "outputs": [
    {
     "data": {
      "text/html": [
       "<a href='/kaggle/working/deepseek_finetuned.zip' target='_blank'>/kaggle/working/deepseek_finetuned.zip</a><br>"
      ],
      "text/plain": [
       "/kaggle/working/deepseek_finetuned.zip"
      ]
     },
     "execution_count": 61,
     "metadata": {},
     "output_type": "execute_result"
    }
   ],
   "source": [
    "from IPython.display import FileLink\n",
    "\n",
    "FileLink(\"deepseek_finetuned.zip\")"
   ]
  },
  {
   "cell_type": "code",
   "execution_count": null,
   "metadata": {
    "trusted": true
   },
   "outputs": [],
   "source": []
  },
  {
   "cell_type": "code",
   "execution_count": null,
   "metadata": {
    "trusted": true
   },
   "outputs": [],
   "source": []
  },
  {
   "cell_type": "code",
   "execution_count": null,
   "metadata": {
    "trusted": true
   },
   "outputs": [],
   "source": []
  },
  {
   "cell_type": "code",
   "execution_count": null,
   "metadata": {
    "trusted": true
   },
   "outputs": [],
   "source": []
  }
 ],
 "metadata": {
  "kaggle": {
   "accelerator": "nvidiaTeslaT4",
   "dataSources": [
    {
     "datasetId": 6672915,
     "sourceId": 10758031,
     "sourceType": "datasetVersion"
    }
   ],
   "dockerImageVersionId": 30887,
   "isGpuEnabled": true,
   "isInternetEnabled": true,
   "language": "python",
   "sourceType": "notebook"
  },
  "kernelspec": {
   "display_name": "Python 3",
   "language": "python",
   "name": "python3"
  },
  "language_info": {
   "codemirror_mode": {
    "name": "ipython",
    "version": 3
   },
   "file_extension": ".py",
   "mimetype": "text/x-python",
   "name": "python",
   "nbconvert_exporter": "python",
   "pygments_lexer": "ipython3",
   "version": "3.10.12"
  }
 },
 "nbformat": 4,
 "nbformat_minor": 4
}
